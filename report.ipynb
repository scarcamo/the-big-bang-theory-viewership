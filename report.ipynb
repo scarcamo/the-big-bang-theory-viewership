{
 "cells": [
  {
   "cell_type": "markdown",
   "metadata": {},
   "source": [
    "# The Big Bang Theory Viewership\n",
    "\n",
    "**The Big Bang Theory** is an American television sitcom created and produced by *Chuck Lorre* and *Bill Prady* for CBS. The episode titles of The Big Bang Theory always start with \"The\" and resemble the name of a scientific principle, theory or experiment, whimsically referencing a plot point or quirk in that episode. For example \n",
    "\n",
    "During the course of the series, **279 episodes** of The Big Bang Theory aired, between September 24, 2007, and May 16, 2019. All seasons and episodes have been released on DVD, Blu-ray, and Max.\n",
    "\n",
    "\n",
    "Source: [Wikipedia](https://en.wikipedia.org/wiki/The_Big_Bang_Theory)\n",
    "\n",
    "\n",
    "<img src=\"TBBT_logo.svg\" width=\"200px\" alt=\"Description of the image\">"
   ]
  }
 ],
 "metadata": {
  "kernelspec": {
   "display_name": "Python 3 (ipykernel)",
   "language": "python",
   "name": "python3"
  },
  "language_info": {
   "codemirror_mode": {
    "name": "ipython",
    "version": 3
   },
   "file_extension": ".py",
   "mimetype": "text/x-python",
   "name": "python",
   "nbconvert_exporter": "python",
   "pygments_lexer": "ipython3",
   "version": "3.11.0"
  }
 },
 "nbformat": 4,
 "nbformat_minor": 4
}
